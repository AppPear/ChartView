{
  "nbformat": 4,
  "nbformat_minor": 0,
  "metadata": {
    "colab": {
      "name": "2-Torch.ipynb",
      "provenance": [],
      "collapsed_sections": [],
      "authorship_tag": "ABX9TyO2++j2Vl9IkiftMUZZamDl"
    },
    "kernelspec": {
      "name": "python3",
      "display_name": "Python 3"
    },
    "language_info": {
      "name": "python"
    }
  },
  "cells": [
    {
      "cell_type": "markdown",
      "source": [
        "# 2. Torch 사용법"
      ],
      "metadata": {
        "id": "d-3QvxIZzXx4"
      }
    },
    {
      "cell_type": "markdown",
      "source": [
        "### Torch\n",
        ": facebook에서 제공하는 딥러닝 도구로서, numpy와 효율적인 연동을 지원하는 편리한 도구\n",
        "\n",
        "- pytorch의 기본적인 data structure: tensor\n",
        "- tensor: **2차원 이상의 array**이며 matrix, vector의 일반화된 객체이다\n",
        "  - vector: 1차원 tensor\n",
        "  - matrix: 2차원 tensor\n",
        "  - RGB: 3차원 tensor\n",
        "\n"
      ],
      "metadata": {
        "id": "HmE9vW-Fzepn"
      }
    },
    {
      "cell_type": "markdown",
      "source": [
        "### Numpy\n",
        ": 다차원 배열을 쉽게 처리하고 효율적으로 사용할 수 있도록 지원하는 파이썬의 패캐지\n",
        "\n",
        "- Numpy를 사용하는 이유는 무엇일까?\n",
        "  - 컴퓨터는 0과 1 밖에 이해할 수 없음. + 데이터를 숫자의 데이터로 볼 수 있음 </br>\n",
        "  => 컴퓨터가 이해할 수 있도록 데이터를 숫자 형식으로 변환 </br>\n",
        "  => 효율적으로 배열을 저장하고 조작하기 위해 만들어진 패키지 == <b>Numpy</b> </br>"
      ],
      "metadata": {
        "id": "WnmdpDg70vr-"
      }
    },
    {
      "cell_type": "markdown",
      "source": [
        "## Tensor 생성"
      ],
      "metadata": {
        "id": "3FN5ZZMk1vwC"
      }
    },
    {
      "cell_type": "code",
      "source": [
        "import torch"
      ],
      "metadata": {
        "id": "iOym4MpqzWhQ"
      },
      "execution_count": 5,
      "outputs": []
    },
    {
      "cell_type": "markdown",
      "source": [
        "#### Array의 tensor 생성"
      ],
      "metadata": {
        "id": "BgQo2uag2aR0"
      }
    },
    {
      "cell_type": "code",
      "source": [
        "V_data = [1., 2., 3.] # float 형태의 vector 생성\n",
        "V = torch.tensor(V_data) # vector를 tensor로 만들기\n",
        "print(V)"
      ],
      "metadata": {
        "colab": {
          "base_uri": "https://localhost:8080/"
        },
        "id": "I6_-oKSX1uKr",
        "outputId": "0ca1592c-fc2b-4394-bfd2-2399616e3346"
      },
      "execution_count": 6,
      "outputs": [
        {
          "output_type": "stream",
          "name": "stdout",
          "text": [
            "tensor([1., 2., 3.])\n"
          ]
        }
      ]
    },
    {
      "cell_type": "markdown",
      "source": [
        "### Matrix의 tensor 생성"
      ],
      "metadata": {
        "id": "jpEhGvx62d6Q"
      }
    },
    {
      "cell_type": "code",
      "source": [
        "M_data = [[1., 2., 3.], [4., 5., 6.]] # flot 형태의 matrix 생성\n",
        "M = torch.tensor(M_data) # matrix를 tensor로 만들기 \n",
        "print(M)"
      ],
      "metadata": {
        "colab": {
          "base_uri": "https://localhost:8080/"
        },
        "id": "341kxeeJ2gXL",
        "outputId": "e0fb245a-b082-463a-eafd-10956b23619f"
      },
      "execution_count": 7,
      "outputs": [
        {
          "output_type": "stream",
          "name": "stdout",
          "text": [
            "tensor([[1., 2., 3.],\n",
            "        [4., 5., 6.]])\n"
          ]
        }
      ]
    },
    {
      "cell_type": "markdown",
      "source": [
        "## Tensor 슬라이싱 및 인덱싱"
      ],
      "metadata": {
        "id": "G9nS1VwH3CxG"
      }
    },
    {
      "cell_type": "code",
      "source": [
        "print(\"==== 인덱싱 ====\")\n",
        "print(\"V = \", V)\n",
        "print(\"V[0] =\", V[0])\n",
        "print(\"M = \", M)\n",
        "print(\"M[0]\", M[0])\n",
        "print(\"M[0][0]\", M[0][0])\n",
        "print(\"\\n\")\n",
        "print(\"==== 슬라이싱 ====\")\n",
        "print(\"M[:,0]\", M[:,0])"
      ],
      "metadata": {
        "colab": {
          "base_uri": "https://localhost:8080/"
        },
        "id": "XVAcZhiz3IxQ",
        "outputId": "32ee23cd-e7b9-4cef-9a34-396c25b2550f"
      },
      "execution_count": 22,
      "outputs": [
        {
          "output_type": "stream",
          "name": "stdout",
          "text": [
            "==== 인덱싱 ====\n",
            "V =  tensor([1., 2., 3.])\n",
            "V[0] = tensor(1.)\n",
            "M =  tensor([[1., 2., 3.],\n",
            "        [4., 5., 6.]])\n",
            "M[0] tensor([1., 2., 3.])\n",
            "M[0][0] tensor(1.)\n",
            "\n",
            "\n",
            "==== 슬라이싱 ====\n",
            "M[:,0] tensor([1., 4.])\n"
          ]
        }
      ]
    },
    {
      "cell_type": "markdown",
      "source": [
        "## 데이터 타입\n",
        "tensor의 기본적인 타입: float </br>\n",
        "데이터 타입을 int, double로 바꾸면 datatype이 같이 출력"
      ],
      "metadata": {
        "id": "FFlRalTS4ABW"
      }
    },
    {
      "cell_type": "code",
      "source": [
        "x_data = torch.tensor([1., 2., 3.], dtype=torch.double)\n",
        "print(x_data)\n",
        "\n",
        "y_data = torch.tensor([1., 2., 3.], dtype=torch.int)\n",
        "print(y_data)"
      ],
      "metadata": {
        "colab": {
          "base_uri": "https://localhost:8080/"
        },
        "id": "9Aa5JJe44CPZ",
        "outputId": "d7799a3f-f202-42a4-d351-c32e218eabdf"
      },
      "execution_count": 26,
      "outputs": [
        {
          "output_type": "stream",
          "name": "stdout",
          "text": [
            "tensor([1., 2., 3.], dtype=torch.float64)\n",
            "tensor([1, 2, 3], dtype=torch.int32)\n"
          ]
        }
      ]
    },
    {
      "cell_type": "markdown",
      "source": [
        "## 가우시안 N(0, 1) 생성\n",
        "tensor를 0 ~ 1 사이의 값으로 랜덤하게 생성한다 </br>\n",
        "가우시안 분포인 만큼 평균과 표준편차를 이용해 분포를 변경할 수 있다."
      ],
      "metadata": {
        "id": "JNEJIkOj4plp"
      }
    },
    {
      "cell_type": "code",
      "source": [
        "x = torch.randn((3, 4, 5)) # 4행 5열의 matrix를 3개 생성\n",
        "print(x)"
      ],
      "metadata": {
        "colab": {
          "base_uri": "https://localhost:8080/"
        },
        "id": "keBblJO641rX",
        "outputId": "cbdbd76f-d813-4973-dce0-b36da4d82ec5"
      },
      "execution_count": 27,
      "outputs": [
        {
          "output_type": "stream",
          "name": "stdout",
          "text": [
            "tensor([[[ 1.2021, -0.9456, -0.8249, -0.9530,  1.6120],\n",
            "         [-0.2300,  0.6870, -0.3944,  0.7063,  1.2062],\n",
            "         [ 0.6949, -0.1663,  2.2758, -0.3043, -1.2322],\n",
            "         [ 0.1712,  0.4423,  0.9707, -0.2349,  1.2608]],\n",
            "\n",
            "        [[-1.3586,  0.4789, -0.0512, -0.4862, -1.3730],\n",
            "         [ 0.0304, -0.1692, -1.7513, -0.7019,  0.1418],\n",
            "         [-0.9333, -1.1728,  1.0924, -1.3813,  1.8609],\n",
            "         [-0.0064,  0.4476,  0.4433,  0.2641,  0.6308]],\n",
            "\n",
            "        [[ 0.3572, -0.1435,  0.6831, -0.2478, -0.1579],\n",
            "         [-0.5053,  0.1056,  0.1940, -0.2029, -0.5433],\n",
            "         [-1.0774, -1.3988,  0.3739, -1.4813,  0.0348],\n",
            "         [ 0.4219, -0.3261,  1.7257, -1.4565,  0.8948]]])\n"
          ]
        }
      ]
    }
  ]
}